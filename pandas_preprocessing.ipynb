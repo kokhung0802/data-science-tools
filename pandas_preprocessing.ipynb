{
 "cells": [
  {
   "cell_type": "code",
   "execution_count": 1,
   "id": "d3aa011b",
   "metadata": {},
   "outputs": [],
   "source": [
    "import pandas as pd"
   ]
  },
  {
   "cell_type": "code",
   "execution_count": null,
   "id": "c2579d92",
   "metadata": {},
   "outputs": [],
   "source": [
    "excel_df = pd.read_excel('dataset.xlsx', engine='openpyxl')"
   ]
  },
  {
   "cell_type": "code",
   "execution_count": null,
   "id": "4bef1793",
   "metadata": {},
   "outputs": [],
   "source": [
    "# create engine that will connect to our database with SQLAlchemy\n",
    "from sqlalchemy import create_engine\n",
    "engine = create_engine('sqlite:///data.db')\n",
    "\n",
    "with engine.connect() as connection:\n",
    "    sql_df = pd.read_sql_query(query, connection)"
   ]
  },
  {
   "cell_type": "code",
   "execution_count": null,
   "id": "e8b4a057",
   "metadata": {},
   "outputs": [],
   "source": [
    "# list of columns\n",
    "df.columns"
   ]
  },
  {
   "cell_type": "markdown",
   "id": "d34c7a14",
   "metadata": {},
   "source": [
    "**Pandas Reference** <br>\n",
    "DataFrames: > 1 column <br>\n",
    "Series: only 1 column <br>\n",
    "\n",
    "Object datatype: string or mixed values of strings and numbers\n",
    "\n",
    "null vs na in pandas: https://datascience.stackexchange.com/questions/37878/difference-between-isna-and-isnull-in-pandas\n",
    "\n",
    "axis 0: rows <br>\n",
    "axis 1: columns\n",
    "\n",
    "inplace=True changes the DataFrame itself instead of returning a new, modified DataFrame"
   ]
  },
  {
   "cell_type": "markdown",
   "id": "3ebcc1c2",
   "metadata": {},
   "source": [
    "**EDA**"
   ]
  },
  {
   "cell_type": "markdown",
   "id": "6ae094df",
   "metadata": {},
   "source": [
    "Examine the top and bottom of the data <br>\n",
    "Examine the data's dimensions <br>\n",
    "Examine the datatypes and missing values <br>\n",
    "Investigate statistical properties of the data <br>\n",
    "Create plots of the data "
   ]
  },
  {
   "cell_type": "code",
   "execution_count": null,
   "id": "6df557cb",
   "metadata": {},
   "outputs": [],
   "source": [
    "# select by row number\n",
    "df.iloc[0]\n",
    "df.iloc[-1]\n",
    "df.iloc[0,0]\n",
    "df = df.iloc[:-5] # get rid of last 5 rows \n",
    "\n",
    "# select by index value\n",
    "# NOTE: DataFrame indexes don't have to be unique – they can have repeated values\n",
    "df.loc[100]\n",
    "\n",
    "# select by column name\n",
    "df[['column1', 'column2']]"
   ]
  },
  {
   "cell_type": "code",
   "execution_count": null,
   "id": "f4be5287",
   "metadata": {},
   "outputs": [],
   "source": [
    "# If duplicate index values, we can change our index to be unique, sequential numbers\n",
    "df.reset_index(inplace=True, drop=True)"
   ]
  },
  {
   "cell_type": "code",
   "execution_count": null,
   "id": "696e502b",
   "metadata": {},
   "outputs": [],
   "source": [
    "# check datatypes and missing values\n",
    "df.info()"
   ]
  },
  {
   "cell_type": "code",
   "execution_count": null,
   "id": "558fe194",
   "metadata": {},
   "outputs": [],
   "source": [
    "# number of missing values\n",
    "df.isna().sum()"
   ]
  },
  {
   "cell_type": "code",
   "execution_count": null,
   "id": "934baad7",
   "metadata": {},
   "outputs": [],
   "source": [
    "# statistics (for numerical features)\n",
    "df.describe()\n",
    "\n",
    "# For non-numeric columns, we can check distribution\n",
    "df['column1'].mode()\n",
    "df['column1'].value_counts()\n",
    "df['column1'].value_counts()[:5] # check top 5"
   ]
  },
  {
   "cell_type": "code",
   "execution_count": null,
   "id": "1a801113",
   "metadata": {},
   "outputs": [],
   "source": [
    "# investigate how many unique items there are\n",
    "df['column1'].unique().shape"
   ]
  },
  {
   "cell_type": "code",
   "execution_count": null,
   "id": "ea5326f9",
   "metadata": {},
   "outputs": [],
   "source": [
    "# correlations\n",
    "# NOTE: If your data has non-linear relationships, then Pearson correlations are not the best method to use.\n",
    "df.corr()"
   ]
  },
  {
   "cell_type": "code",
   "execution_count": null,
   "id": "2db8bcc8",
   "metadata": {},
   "outputs": [],
   "source": [
    "import matplotlib.pyplot as plt\n",
    "# plot histogram\n",
    "# bins: number of bars\n",
    "df['column1'].hist(bins=30)\n",
    "plt.show()\n",
    "\n",
    "# plot multiple histograms in separate subplots\n",
    "df[['col1' , 'col2']].df.hist() \n",
    "# plot multiple histograms in a single plot\n",
    "df.plot.hist()"
   ]
  },
  {
   "cell_type": "code",
   "execution_count": null,
   "id": "bc7d4640",
   "metadata": {},
   "outputs": [],
   "source": [
    "# scatterplot\n",
    "df.plot.scatter(x='col1', y='col2')\n",
    "plt.show()"
   ]
  },
  {
   "cell_type": "code",
   "execution_count": null,
   "id": "1f46117a",
   "metadata": {},
   "outputs": [],
   "source": [
    "# bar plot of non-numeric data\n",
    "df['col1'].value_counts().plot.bar()\n",
    "plt.show()"
   ]
  },
  {
   "cell_type": "markdown",
   "id": "4c39ba7e",
   "metadata": {},
   "source": [
    "**Cleaning Data**\n",
    "\n",
    "- Removing irrelevant data\n",
    "- Dealing with missing values (filling in or dropping them)\n",
    "- Dealing with outliers\n",
    "- Dealing with duplicate values\n",
    "- Ensuring datatypes are correct\n",
    "- Standardizing data formats (e.g. mismatched capitalization, converting units)"
   ]
  },
  {
   "cell_type": "code",
   "execution_count": null,
   "id": "28cafc04",
   "metadata": {},
   "outputs": [],
   "source": [
    "# filtering data\n",
    "df[df['col1'] > 100]\n",
    "\n",
    "df[(df['col1'] > 100) & (df['col2'] > 200)]['col3'].value_counts()"
   ]
  },
  {
   "cell_type": "markdown",
   "id": "b1d1bbaa",
   "metadata": {},
   "source": [
    "Removing irrelevant data"
   ]
  },
  {
   "cell_type": "code",
   "execution_count": null,
   "id": "a5832913",
   "metadata": {},
   "outputs": [],
   "source": [
    "# drop columns\n",
    "df.drop(['col1', 'col2'], axis=1, inplace=True)\n",
    "\n",
    "# filter out genres that are not music\n",
    "only_music = df[~df['Genre'].isin(['Drama', 'TV'])]"
   ]
  },
  {
   "cell_type": "markdown",
   "id": "3574bd47",
   "metadata": {},
   "source": [
    "Dealing with missing values\n",
    "\n",
    "examine the data with EDA and check any documentation on the data to see if missing values are represented in a special way\n",
    "\n",
    "might be represented as NA, NaN, None or -999\n",
    "\n",
    "Handling methods:\n",
    "- Leave the missing values as-is\n",
    "- Drop the data\n",
    "- Fill with a specific value\n",
    "- Replace with the mean, median, or mode\n",
    "- Use machine learning to replace missing values (Imputer)"
   ]
  },
  {
   "cell_type": "code",
   "execution_count": null,
   "id": "495310f6",
   "metadata": {},
   "outputs": [],
   "source": [
    "# examine missing rows\n",
    "# sample 5 missing data in col1\n",
    "df[df['col1'].isna()].sample(5, random_state=42).head()"
   ]
  },
  {
   "cell_type": "code",
   "execution_count": null,
   "id": "1532349d",
   "metadata": {},
   "outputs": [],
   "source": [
    "# drop data\n",
    "df.dropna(inplace=True)"
   ]
  },
  {
   "cell_type": "code",
   "execution_count": null,
   "id": "0bdb2a07",
   "metadata": {},
   "outputs": [],
   "source": [
    "# fill in with specific value\n",
    "df['col1'].fillna('Unknown', inplace=True)"
   ]
  },
  {
   "cell_type": "code",
   "execution_count": null,
   "id": "14fc909b",
   "metadata": {},
   "outputs": [],
   "source": [
    "# replace with mode\n",
    "# make sense if we have a dataset where most of the values are a particular value\n",
    "df['col1'].fillna(df['col1'].mode(), inplace=True)\n",
    "\n",
    "# fill with the mean (average)\n",
    "# makes sense if we have a distribution of values that is somewhat Gaussian or a normal distribution\n",
    "\n",
    "# fill with median if we have skewed distribution\n",
    "# why? In the skewed distribution, the median is closer to the peak of the histogram"
   ]
  },
  {
   "cell_type": "code",
   "execution_count": null,
   "id": "80c6eaa1",
   "metadata": {},
   "outputs": [],
   "source": [
    "# Use Machine Learning\n",
    "# sklearn can only handle numeric data without missing values, so we can't pass it any strings\n",
    "from sklearn.impute import KNNImputer\n",
    "imputer = KNNImputer()\n",
    "imputed = imputer.fit_transform(df[['col1', 'col2']])\n",
    "\n",
    "# overwrite the target column with our new data\n",
    "df['col1'] = imputed[:, 'col1']"
   ]
  },
  {
   "cell_type": "markdown",
   "id": "63d9d92f",
   "metadata": {},
   "source": [
    "Dealing with outliers\n",
    "\n",
    "**Categorical** <br>\n",
    "- remove these rows with filtering\n",
    "- group all minority classes into a class we label as Other.\n",
    "\n",
    "Dealing with categorical outliers mostly has little impact\n",
    "\n",
    "**Numerical**\n",
    "- interquartile range (IQR) \n",
    "- z-score methods\n",
    "\n",
    "More methods: https://stackoverflow.com/questions/23199796/detect-and-exclude-outliers-in-pandas-data-frame"
   ]
  },
  {
   "cell_type": "code",
   "execution_count": null,
   "id": "b6f6b631",
   "metadata": {},
   "outputs": [],
   "source": [
    "# IQR method\n",
    "def remove_outlier(df, column):\n",
    "    q1 = df[column].quantile(0.25)\n",
    "    q3 = df[column].quantile(0.75)\n",
    "    iqr = q3 - q1\n",
    "    upper_boundary = q3 + 1.5*iqr\n",
    "    lower_boundary = q1 - 1.5*iqr\n",
    "    new_df = df.loc[(df[column] > lower_boundary) & (df[column] < upper_boundary)]\n",
    "    return new_df"
   ]
  },
  {
   "cell_type": "markdown",
   "id": "3f06f683",
   "metadata": {},
   "source": [
    "Dealing with duplicate values"
   ]
  },
  {
   "cell_type": "code",
   "execution_count": null,
   "id": "28408aea",
   "metadata": {},
   "outputs": [],
   "source": [
    "# check for duplicated values\n",
    "df.duplicated().sum()"
   ]
  },
  {
   "cell_type": "code",
   "execution_count": null,
   "id": "9203848a",
   "metadata": {},
   "outputs": [],
   "source": [
    "df.drop_duplicates(inplace=True)"
   ]
  },
  {
   "cell_type": "markdown",
   "id": "5a3d069f",
   "metadata": {},
   "source": [
    "Ensuring datatypes are correct\n",
    "- object (for strings)\n",
    "- int\n",
    "- float"
   ]
  },
  {
   "cell_type": "code",
   "execution_count": null,
   "id": "fa2e8f53",
   "metadata": {},
   "outputs": [],
   "source": [
    "df['col1'] = df['col1'].astype('int')"
   ]
  },
  {
   "cell_type": "markdown",
   "id": "9b654ddb",
   "metadata": {},
   "source": [
    "Standardizing data formats <br>\n",
    "Male, male, M - all refer to the same thing"
   ]
  },
  {
   "cell_type": "code",
   "execution_count": null,
   "id": "3847e340",
   "metadata": {},
   "outputs": [],
   "source": [
    "# replace several data at once\n",
    "# replace: non-matching values left alone\n",
    "# map: non-matching values converted to NaN\n",
    "genre_dict = {'metal': 'Metal', 'met': 'Metal'}\n",
    "songs_df['Genre'].replace(genre_dict)"
   ]
  },
  {
   "cell_type": "code",
   "execution_count": null,
   "id": "d9a97b3b",
   "metadata": {},
   "outputs": [],
   "source": [
    "df['col1'].apply(lambda x: x.lower())"
   ]
  },
  {
   "cell_type": "markdown",
   "id": "06013ade",
   "metadata": {},
   "source": [
    "Group by"
   ]
  },
  {
   "cell_type": "code",
   "execution_count": null,
   "id": "e64616a8",
   "metadata": {},
   "outputs": [],
   "source": [
    "song_df.groupby('Genre').mean()['Seconds'].sort_values().head()"
   ]
  },
  {
   "cell_type": "markdown",
   "id": "59a65038",
   "metadata": {},
   "source": [
    "After preprocessing, save pandas dataframe as:\n",
    "- csv\n",
    "- HDF: can retrieve only parts of the data at a time (via the index)\n",
    "- Feather: fast, compressed, and were designed for passing data between R and Python"
   ]
  },
  {
   "cell_type": "code",
   "execution_count": null,
   "id": "b4e4255d",
   "metadata": {},
   "outputs": [],
   "source": [
    "# write dataframe to disk\n",
    "df.to_csv('file.csv', index=False)"
   ]
  }
 ],
 "metadata": {
  "kernelspec": {
   "display_name": "Python 3 (ipykernel)",
   "language": "python",
   "name": "python3"
  },
  "language_info": {
   "codemirror_mode": {
    "name": "ipython",
    "version": 3
   },
   "file_extension": ".py",
   "mimetype": "text/x-python",
   "name": "python",
   "nbconvert_exporter": "python",
   "pygments_lexer": "ipython3",
   "version": "3.8.11"
  }
 },
 "nbformat": 4,
 "nbformat_minor": 5
}
