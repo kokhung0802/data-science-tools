{
 "cells": [
  {
   "cell_type": "markdown",
   "id": "89ecdd84",
   "metadata": {},
   "source": [
    "mode:\n",
    "r - read only\n",
    "w - write only (overwrite)\n",
    "r+ - read and write\n",
    "a - append (wont overwrite)"
   ]
  },
  {
   "cell_type": "code",
   "execution_count": null,
   "id": "fb0fc89c",
   "metadata": {},
   "outputs": [],
   "source": [
    "# read file\n",
    "with open(file='textfile.txt', mode='r') as f:\n",
    "    text = f.read()\n",
    "print(text)"
   ]
  },
  {
   "cell_type": "markdown",
   "id": "e99c83ef",
   "metadata": {},
   "source": [
    "JSON"
   ]
  },
  {
   "cell_type": "code",
   "execution_count": null,
   "id": "7c87f422",
   "metadata": {},
   "outputs": [],
   "source": [
    "# convert python dict to json string\n",
    "import json\n",
    "json_string = json.dumps(data_dictionary)"
   ]
  },
  {
   "cell_type": "code",
   "execution_count": null,
   "id": "16818b06",
   "metadata": {},
   "outputs": [],
   "source": [
    "# convert json string to python dict\n",
    "data_dict = json.loads(json_string)"
   ]
  },
  {
   "cell_type": "code",
   "execution_count": null,
   "id": "3d687941",
   "metadata": {},
   "outputs": [],
   "source": [
    "# save json data to a file\n",
    "with open('reading.json', 'w') as f:\n",
    "    json.dump(data_dictionary, f)"
   ]
  },
  {
   "cell_type": "code",
   "execution_count": null,
   "id": "0e0424f6",
   "metadata": {},
   "outputs": [],
   "source": [
    "# load json data from a file\n",
    "# Sometimes downloaded data from websites can be in JSON format\n",
    "with open('reading.json') as f:\n",
    "    loaded_data = json.load(f)"
   ]
  },
  {
   "cell_type": "markdown",
   "id": "0584589d",
   "metadata": {},
   "source": [
    "Pickle<br> \n",
    "Purpose: to save a Python object, such as a dictionary <br>\n",
    "store the results for later analysis"
   ]
  },
  {
   "cell_type": "code",
   "execution_count": null,
   "id": "2ccbd3ba",
   "metadata": {},
   "outputs": [],
   "source": [
    "# pickle saves data in binary format, must use this 'wb' argument to write data to a pickle file\n",
    "# convert python object to pickle file\n",
    "import pickle as pk\n",
    "with open('readings.pk', 'wb') as f:\n",
    "    pk.dump(data_dictionary, f)"
   ]
  },
  {
   "cell_type": "code",
   "execution_count": null,
   "id": "a7358f5f",
   "metadata": {},
   "outputs": [],
   "source": [
    "# load pickle file\n",
    "with open('readings.pk', 'rb') as f:\n",
    "    data = pk.load(f)"
   ]
  },
  {
   "cell_type": "markdown",
   "id": "a51fb72b",
   "metadata": {},
   "source": [
    "SQL"
   ]
  },
  {
   "cell_type": "code",
   "execution_count": null,
   "id": "552c3e58",
   "metadata": {},
   "outputs": [],
   "source": []
  }
 ],
 "metadata": {
  "kernelspec": {
   "display_name": "Python 3 (ipykernel)",
   "language": "python",
   "name": "python3"
  },
  "language_info": {
   "codemirror_mode": {
    "name": "ipython",
    "version": 3
   },
   "file_extension": ".py",
   "mimetype": "text/x-python",
   "name": "python",
   "nbconvert_exporter": "python",
   "pygments_lexer": "ipython3",
   "version": "3.8.11"
  }
 },
 "nbformat": 4,
 "nbformat_minor": 5
}
